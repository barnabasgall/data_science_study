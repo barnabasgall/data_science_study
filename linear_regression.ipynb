{
 "cells": [
  {
   "cell_type": "code",
   "execution_count": 1,
   "metadata": {},
   "outputs": [],
   "source": [
    "import numpy as np\n",
    "import pandas as pd\n",
    "from sklearn.datasets import load_breast_cancer\n",
    "import matplotlib.pyplot as plt\n",
    "import seaborn as sns"
   ]
  },
  {
   "cell_type": "code",
   "execution_count": 2,
   "metadata": {},
   "outputs": [],
   "source": [
    "cancer = load_breast_cancer()     \n",
    "df_features = pd.DataFrame(cancer.data, columns=cancer.feature_names)\n",
    "df = df_features.copy()\n",
    "df['target'] = pd.Series(cancer.target)"
   ]
  },
  {
   "cell_type": "code",
   "execution_count": null,
   "metadata": {},
   "outputs": [],
   "source": [
    "title = 'The Integrated Signal Intensity of bands of a western blot of buffer extracted proteins from leaf disks of $\\it{N. benthamiana}$. Different $\\mu$L of sample were loaded. Signal was of hist-tagged AnfH mutants.'\n",
    "from sklearn.linear_model import LinearRegression\n",
    "reg = LinearRegression()\n",
    "x = df_features.values\n",
    "y = dataframe['M7'].values\n",
    "x = x.reshape(-1,1)\n",
    "\n",
    "reg.fit(x,y)\n",
    "predictions = reg.predict(x)\n",
    "plt.scatter(x,y)\n",
    "plt.plot(x,predictions)\n",
    "x = dataframe['uL'].values\n",
    "y = dataframe['M8'].values\n",
    "x = x.reshape(-1,1)\n",
    "\n",
    "reg.fit(x,y)\n",
    "predictions = reg.predict(x)\n",
    "plt.scatter(x,y)\n",
    "plt.plot(x,predictions)\n",
    "plt.ylabel('Integrated Signal Intensity of band')\n",
    "plt.xlabel('$\\mu$L of sample loaded')\n",
    "plt.title(\"\\n\".join(wrap(title,70)))"
   ]
  }
 ],
 "metadata": {
  "kernelspec": {
   "display_name": "Python 3.9.12 ('base')",
   "language": "python",
   "name": "python3"
  },
  "language_info": {
   "codemirror_mode": {
    "name": "ipython",
    "version": 3
   },
   "file_extension": ".py",
   "mimetype": "text/x-python",
   "name": "python",
   "nbconvert_exporter": "python",
   "pygments_lexer": "ipython3",
   "version": "3.9.12"
  },
  "orig_nbformat": 4,
  "vscode": {
   "interpreter": {
    "hash": "e155341b8c2cab07dba5914d0636c795c7ed1986959c33990568d3ab8779f981"
   }
  }
 },
 "nbformat": 4,
 "nbformat_minor": 2
}
