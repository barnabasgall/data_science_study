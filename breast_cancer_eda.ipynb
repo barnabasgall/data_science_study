{
 "cells": [
  {
   "cell_type": "code",
   "execution_count": 2,
   "metadata": {},
   "outputs": [],
   "source": [
    "import numpy as np\n",
    "import pandas as pd\n",
    "from sklearn.datasets import load_breast_cancer\n",
    "import matplotlib.pyplot as plt\n",
    "import seaborn as sns"
   ]
  },
  {
   "cell_type": "code",
   "execution_count": 3,
   "metadata": {},
   "outputs": [],
   "source": [
    "cancer = load_breast_cancer()     \n",
    "df_features = pd.DataFrame(cancer.data, columns=cancer.feature_names)\n",
    "df = df_features.copy()\n",
    "df['target'] = pd.Series(cancer.target)"
   ]
  },
  {
   "cell_type": "code",
   "execution_count": 4,
   "metadata": {},
   "outputs": [
    {
     "name": "stdout",
     "output_type": "stream",
     "text": [
      "<class 'pandas.core.frame.DataFrame'>\n",
      "RangeIndex: 569 entries, 0 to 568\n",
      "Data columns (total 31 columns):\n",
      " #   Column                   Non-Null Count  Dtype  \n",
      "---  ------                   --------------  -----  \n",
      " 0   mean radius              569 non-null    float64\n",
      " 1   mean texture             569 non-null    float64\n",
      " 2   mean perimeter           569 non-null    float64\n",
      " 3   mean area                569 non-null    float64\n",
      " 4   mean smoothness          569 non-null    float64\n",
      " 5   mean compactness         569 non-null    float64\n",
      " 6   mean concavity           569 non-null    float64\n",
      " 7   mean concave points      569 non-null    float64\n",
      " 8   mean symmetry            569 non-null    float64\n",
      " 9   mean fractal dimension   569 non-null    float64\n",
      " 10  radius error             569 non-null    float64\n",
      " 11  texture error            569 non-null    float64\n",
      " 12  perimeter error          569 non-null    float64\n",
      " 13  area error               569 non-null    float64\n",
      " 14  smoothness error         569 non-null    float64\n",
      " 15  compactness error        569 non-null    float64\n",
      " 16  concavity error          569 non-null    float64\n",
      " 17  concave points error     569 non-null    float64\n",
      " 18  symmetry error           569 non-null    float64\n",
      " 19  fractal dimension error  569 non-null    float64\n",
      " 20  worst radius             569 non-null    float64\n",
      " 21  worst texture            569 non-null    float64\n",
      " 22  worst perimeter          569 non-null    float64\n",
      " 23  worst area               569 non-null    float64\n",
      " 24  worst smoothness         569 non-null    float64\n",
      " 25  worst compactness        569 non-null    float64\n",
      " 26  worst concavity          569 non-null    float64\n",
      " 27  worst concave points     569 non-null    float64\n",
      " 28  worst symmetry           569 non-null    float64\n",
      " 29  worst fractal dimension  569 non-null    float64\n",
      " 30  target                   569 non-null    int64  \n",
      "dtypes: float64(30), int64(1)\n",
      "memory usage: 137.9 KB\n",
      "None\n"
     ]
    }
   ],
   "source": [
    "print(df.info())"
   ]
  },
  {
   "cell_type": "code",
   "execution_count": 8,
   "metadata": {},
   "outputs": [
    {
     "data": {
      "image/png": "[encoded data removed]",
      "text/plain": [
       "<Figure size 432x288 with 1 Axes>"
      ]
     },
     "metadata": {
      "needs_background": "light"
     },
     "output_type": "display_data"
    }
   ],
   "source": [
    "df[df['target']==1]['mean radius'].hist(alpha = 0.8)\n",
    "\n",
    "# Histogram of organic avg_price\n",
    "df[df['target']==0]['mean radius'].hist(alpha = 0.8)\n",
    "\n",
    "# Add a legend\n",
    "plt.legend(['Type 1','Type 2'])\n",
    "\n",
    "# Show the plot\n",
    "plt.show()"
   ]
  },
  {
   "cell_type": "code",
   "execution_count": 15,
   "metadata": {},
   "outputs": [],
   "source": [
    "summary_statistics = pd.DataFrame()\n",
    "\n",
    "for feature in cancer.feature_names:\n",
    "    a = df.groupby(\"target\")[feature].mean()\n",
    "    summary_statistics[feature] = a"
   ]
  },
  {
   "cell_type": "code",
   "execution_count": 16,
   "metadata": {},
   "outputs": [
    {
     "name": "stdout",
     "output_type": "stream",
     "text": [
      "        mean radius  mean texture  mean perimeter   mean area  \\\n",
      "target                                                          \n",
      "0         17.462830     21.604906      115.365377  978.376415   \n",
      "1         12.146524     17.914762       78.075406  462.790196   \n",
      "\n",
      "        mean smoothness  mean compactness  mean concavity  \\\n",
      "target                                                      \n",
      "0              0.102898          0.145188        0.160775   \n",
      "1              0.092478          0.080085        0.046058   \n",
      "\n",
      "        mean concave points  mean symmetry  mean fractal dimension  ...  \\\n",
      "target                                                              ...   \n",
      "0                  0.087990       0.192909                0.062680  ...   \n",
      "1                  0.025717       0.174186                0.062867  ...   \n",
      "\n",
      "        worst radius  worst texture  worst perimeter   worst area  \\\n",
      "target                                                              \n",
      "0          21.134811      29.318208       141.370330  1422.286321   \n",
      "1          13.379801      23.515070        87.005938   558.899440   \n",
      "\n",
      "        worst smoothness  worst compactness  worst concavity  \\\n",
      "target                                                         \n",
      "0               0.144845           0.374824         0.450606   \n",
      "1               0.124959           0.182673         0.166238   \n",
      "\n",
      "        worst concave points  worst symmetry  worst fractal dimension  \n",
      "target                                                                 \n",
      "0                   0.182237        0.323468                 0.091530  \n",
      "1                   0.074444        0.270246                 0.079442  \n",
      "\n",
      "[2 rows x 30 columns]\n"
     ]
    }
   ],
   "source": []
  }
 ],
 "metadata": {
  "kernelspec": {
   "display_name": "Python 3.9.12 ('base')",
   "language": "python",
   "name": "python3"
  },
  "language_info": {
   "codemirror_mode": {
    "name": "ipython",
    "version": 3
   },
   "file_extension": ".py",
   "mimetype": "text/x-python",
   "name": "python",
   "nbconvert_exporter": "python",
   "pygments_lexer": "ipython3",
   "version": "3.9.12"
  },
  "orig_nbformat": 4,
  "vscode": {
   "interpreter": {
    "hash": "e155341b8c2cab07dba5914d0636c795c7ed1986959c33990568d3ab8779f981"
   }
  }
 },
 "nbformat": 4,
 "nbformat_minor": 2
}
