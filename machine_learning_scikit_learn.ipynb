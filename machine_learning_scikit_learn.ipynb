{
 "cells": [
  {
   "cell_type": "code",
   "execution_count": 29,
   "metadata": {},
   "outputs": [
    {
     "ename": "ModuleNotFoundError",
     "evalue": "No module named 'matplotlib'",
     "output_type": "error",
     "traceback": [
      "\u001b[0;31m---------------------------------------------------------------------------\u001b[0m",
      "\u001b[0;31mModuleNotFoundError\u001b[0m                       Traceback (most recent call last)",
      "\u001b[1;32m/home/bgall/C/data_science_study/machine_learning_scikit_learn.ipynb Cell 1\u001b[0m in \u001b[0;36m<cell line: 3>\u001b[0;34m()\u001b[0m\n\u001b[1;32m      <a href='vscode-notebook-cell:/home/bgall/C/data_science_study/machine_learning_scikit_learn.ipynb#W5sZmlsZQ%3D%3D?line=0'>1</a>\u001b[0m \u001b[39mimport\u001b[39;00m \u001b[39mpandas\u001b[39;00m \u001b[39mas\u001b[39;00m \u001b[39mpd\u001b[39;00m\n\u001b[1;32m      <a href='vscode-notebook-cell:/home/bgall/C/data_science_study/machine_learning_scikit_learn.ipynb#W5sZmlsZQ%3D%3D?line=1'>2</a>\u001b[0m \u001b[39mimport\u001b[39;00m \u001b[39mnumpy\u001b[39;00m \u001b[39mas\u001b[39;00m \u001b[39mnp\u001b[39;00m\n\u001b[0;32m----> <a href='vscode-notebook-cell:/home/bgall/C/data_science_study/machine_learning_scikit_learn.ipynb#W5sZmlsZQ%3D%3D?line=2'>3</a>\u001b[0m \u001b[39mimport\u001b[39;00m \u001b[39mmatplotlib\u001b[39;00m\u001b[39m.\u001b[39;00m\u001b[39mpyplot\u001b[39;00m \u001b[39mas\u001b[39;00m \u001b[39mplt\u001b[39;00m\n",
      "\u001b[0;31mModuleNotFoundError\u001b[0m: No module named 'matplotlib'"
     ]
    }
   ],
   "source": [
    "import pandas as pd\n",
    "import numpy as np\n",
    "import matplotlib.pyplot as plt"
   ]
  },
  {
   "cell_type": "markdown",
   "metadata": {},
   "source": [
    "##### Supervised learning with scikit-learn\n",
    "Machine learning: decisions from data without programmed, e.g. spam/not spam email\n",
    "\n",
    "Unsupervised learning: uncovering hidden patterns from unlabelled data\n",
    "\n",
    "Supervised learning: Predicted values are known\n",
    "    - Classicifation: predict catagory\n",
    "    - Regression: Target variable is continuous\n",
    "\n",
    "Feature = predictor variable = independent variable\n",
    "Target variable = dependent variable = response variable\n",
    "\n",
    "Data requirements:\n",
    "    - No missing values\n",
    "    - Data in numeric format\n",
    "    - Data in pandas or \n",
    "\n",
    "Scikit-learn pseudo-code syntax:\n",
    "Import model, algorithm for our supervised learning problem from module\n",
    "\n",
    "```from sklearn.module import Model```\n",
    "\n",
    "```model = Model()```\n",
    "\n",
    "```model.fit(X, y)```\n",
    "\n",
    "```predictions = model.predict(X_new)```\n",
    "\n"
   ]
  },
  {
   "cell_type": "markdown",
   "metadata": {},
   "source": [
    "Classifying labels of unseen data\n",
    "1. Build a model\n",
    "2. Model learns from labeled data passed to it\n",
    "3. Pass unlabeled data to model as input\n",
    "4. Model predicts the labels of unseen data (training data)"
   ]
  },
  {
   "cell_type": "code",
   "execution_count": 26,
   "metadata": {},
   "outputs": [
    {
     "name": "stdout",
     "output_type": "stream",
     "text": [
      "   sepal length (cm)  sepal width (cm)  petal length (cm)  petal width (cm)  \\\n",
      "0                5.1               3.5                1.4               0.2   \n",
      "1                4.9               3.0                1.4               0.2   \n",
      "2                4.7               3.2                1.3               0.2   \n",
      "3                4.6               3.1                1.5               0.2   \n",
      "4                5.0               3.6                1.4               0.2   \n",
      "\n",
      "   target  \n",
      "0       0  \n",
      "1       0  \n",
      "2       0  \n",
      "3       0  \n",
      "4       0  \n",
      "Predictions: [0 0 2]\n"
     ]
    }
   ],
   "source": [
    "# Import KNeighborsClassifier\n",
    "from sklearn.neighbors import KNeighborsClassifier \n",
    "\n",
    "from sklearn.datasets import load_iris\n",
    "data = load_iris()\n",
    "df = pd.DataFrame(data=data.data, \n",
    "                  columns=data.feature_names)\n",
    "df['target'] = data.target\n",
    "\n",
    "print(df.head())\n",
    "# Create arrays for the features and the target variable\n",
    "y = df[\"target\"].values\n",
    "X = df[[\"sepal length (cm)\", \"sepal length (cm)\"]].values\n",
    "\n",
    "# Create a KNN classifier with 6 neighbors\n",
    "knn = KNeighborsClassifier(n_neighbors=6)\n",
    "\n",
    "# Fit the classifier to the data\n",
    "knn.fit(X, y)\n",
    "\n",
    "# Observations for label predictions\n",
    "X_new = np.array([[6.0,4.0],[1.0,2.0],[8.0,5.0]])\n",
    "\n",
    "# Predict the labels for the X_new\n",
    "y_pred = knn.predict(X_new)\n",
    "\n",
    "# Print the predictions for X_new\n",
    "print(\"Predictions: {}\".format(y_pred))"
   ]
  },
  {
   "cell_type": "markdown",
   "metadata": {},
   "source": [
    "### Measuring model performace\n",
    "In classification, accuracy is a commonly used metric\n",
    "$$\\frac{\\text{correct predicitons}}{\\text{total observations}}$$\n",
    "\n",
    "Split data into training set and testing set\n",
    "\n",
    "```from sklearn.moedl_selection import train_test_split```\n",
    "\n",
    "```X_train, X_test, y_train, y_test = train_test_split(X, y, test_size=0.3,random_state=21,stratify=y)```\n",
    "Where test_size is % of data for train set, random state seed for splitting data (reproducability), stratify=y\n",
    "\n"
   ]
  },
  {
   "cell_type": "code",
   "execution_count": 27,
   "metadata": {},
   "outputs": [
    {
     "name": "stdout",
     "output_type": "stream",
     "text": [
      "0.6444444444444445\n"
     ]
    }
   ],
   "source": [
    "from sklearn.model_selection import train_test_split\n",
    "\n",
    "X_train, X_test, y_train, y_test = train_test_split(X, y, test_size = 0.3, random_state=21, stratify=y)\n",
    "knn.fit(X_train, y_train)\n",
    "print(knn.score(X_test, y_test))"
   ]
  },
  {
   "cell_type": "code",
   "execution_count": 28,
   "metadata": {},
   "outputs": [],
   "source": [
    "test_accuracies = {}\n",
    "train_accuracies = {}\n",
    "neighbors = np.arange(1,26)\n",
    "for neighbor in neighbors:\n",
    "    knn = KNeighborsClassifier(n_neighbors=neighbor)\n",
    "    knn.fit(X_train, y_train)\n",
    "    train_accuracies[neighbor] = knn.score(X_train, y_train)\n",
    "    test_accuracies[neighbor] = knn.score(X_test, y_test)\n"
   ]
  }
 ],
 "metadata": {
  "kernelspec": {
   "display_name": "Python 3.9.13 ('base')",
   "language": "python",
   "name": "python3"
  },
  "language_info": {
   "codemirror_mode": {
    "name": "ipython",
    "version": 3
   },
   "file_extension": ".py",
   "mimetype": "text/x-python",
   "name": "python",
   "nbconvert_exporter": "python",
   "pygments_lexer": "ipython3",
   "version": "3.9.13"
  },
  "orig_nbformat": 4,
  "vscode": {
   "interpreter": {
    "hash": "03a5a67a76777dc454eb354582ee6311a030000f30e9a68e563482ed71132a9f"
   }
  }
 },
 "nbformat": 4,
 "nbformat_minor": 2
}
